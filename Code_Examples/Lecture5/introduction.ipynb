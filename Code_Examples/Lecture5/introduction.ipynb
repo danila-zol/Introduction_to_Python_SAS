{
 "cells": [
  {
   "cell_type": "raw",
   "id": "1ee5ebcf-0789-420b-943b-bc0b220ba999",
   "metadata": {},
   "source": [
    "This is raw text! It's RAAAW!"
   ]
  },
  {
   "cell_type": "markdown",
   "id": "8fb238a1-c2fd-4af5-8b1f-d60f978d1cbd",
   "metadata": {},
   "source": [
    "# This is a huge heading\n",
    "\n",
    "**This is a list**:\n",
    "* Element 1\n",
    "* Element 2\n",
    "    * Nested element 2 \\[1]\n",
    "* Element 3\n",
    "\n",
    "\\[1] This is a citation example\n",
    "\n",
    "Learn more on Markdown syntax [here](https://www.markdownguide.org/basic-syntax)\n",
    "\n",
    "### This is a smaller heading\n",
    "\n",
    "This is a *paragraph* blah blah blah\n",
    "\n",
    "![This is an image of my cat](https://storage.yandexcloud.net/black-lodge/photo_2024-10-01_17-57-27.jpg)"
   ]
  },
  {
   "cell_type": "code",
   "execution_count": 2,
   "id": "dcbf5821-babc-4b67-9b17-2441f2abc516",
   "metadata": {},
   "outputs": [
    {
     "name": "stdout",
     "output_type": "stream",
     "text": [
      "Hello, Python!\n"
     ]
    }
   ],
   "source": [
    "print(\"Hello, Python!\")"
   ]
  },
  {
   "cell_type": "code",
   "execution_count": 1,
   "id": "04c4bf8c-57e3-44e7-9ddd-bbf310518a30",
   "metadata": {},
   "outputs": [
    {
     "name": "stdout",
     "output_type": "stream",
     "text": [
      "Hello, Jupyter!\n"
     ]
    }
   ],
   "source": [
    "print(\"Hello, Jupyter!\")"
   ]
  },
  {
   "cell_type": "code",
   "execution_count": 2,
   "id": "d1d2a848-bd44-4f62-8699-67b29c4fed67",
   "metadata": {},
   "outputs": [],
   "source": [
    "a = 199"
   ]
  },
  {
   "cell_type": "code",
   "execution_count": 3,
   "id": "7593fb71-cc52-447a-b412-261180ace2fc",
   "metadata": {},
   "outputs": [],
   "source": [
    "b = 9\n",
    "c = 8"
   ]
  },
  {
   "cell_type": "code",
   "execution_count": 4,
   "id": "ee652150-ba83-4ef8-acbb-05a01f10b0bd",
   "metadata": {},
   "outputs": [
    {
     "data": {
      "text/plain": [
       "208"
      ]
     },
     "execution_count": 4,
     "metadata": {},
     "output_type": "execute_result"
    }
   ],
   "source": [
    "a + b"
   ]
  },
  {
   "cell_type": "code",
   "execution_count": 5,
   "id": "e2841614-a083-475c-90a0-e3f32c0c8765",
   "metadata": {},
   "outputs": [
    {
     "data": {
      "text/plain": [
       "190"
      ]
     },
     "execution_count": 5,
     "metadata": {},
     "output_type": "execute_result"
    }
   ],
   "source": [
    "a - b"
   ]
  },
  {
   "cell_type": "code",
   "execution_count": null,
   "id": "344a1454-3789-4947-9619-5b94866eae65",
   "metadata": {},
   "outputs": [],
   "source": []
  }
 ],
 "metadata": {
  "kernelspec": {
   "display_name": "Python 3 (ipykernel)",
   "language": "python",
   "name": "python3"
  },
  "language_info": {
   "codemirror_mode": {
    "name": "ipython",
    "version": 3
   },
   "file_extension": ".py",
   "mimetype": "text/x-python",
   "name": "python",
   "nbconvert_exporter": "python",
   "pygments_lexer": "ipython3",
   "version": "3.12.6"
  }
 },
 "nbformat": 4,
 "nbformat_minor": 5
}
