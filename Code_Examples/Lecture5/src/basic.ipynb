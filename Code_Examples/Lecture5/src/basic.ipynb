{
 "cells": [
  {
   "cell_type": "markdown",
   "id": "49dfaa5a-7d66-4aeb-a7b1-0eedd41d3e43",
   "metadata": {},
   "source": [
    "# Basic Jupyter notebook example"
   ]
  },
  {
   "cell_type": "raw",
   "id": "7e9509be-898e-47e3-96f9-df6e6bed5c62",
   "metadata": {},
   "source": [
    "You can write your text raw like this"
   ]
  },
  {
   "cell_type": "markdown",
   "id": "cc6a33e1-0fe9-4deb-98b9-f7d86603c864",
   "metadata": {},
   "source": [
    "### OR\n",
    "\n",
    "You can go [Markdown](https://www.markdownguide.org/basic-syntax) and make **your text** look:\n",
    "- Structured [\\[1\\]](#[1])\n",
    "- Concise\n",
    "- *Nice*\n",
    "\n",
    "\\[1]: Really structured!\n",
    "\n",
    "---\n",
    "#### To-Do\n",
    "- [x] Show basic syntax of Markdown\n",
    "- [ ] Show an image embedding example\n",
    "- [ ] Write some actual code\n",
    "\n",
    "[comment]: # \"##### Image example\" \n",
    "[comment]: # \"![Here goes the image of my cat](https://storage.yandexcloud.net/black-lodge/photo_2024-10-01_17-57-27.jpg)\""
   ]
  },
  {
   "cell_type": "code",
   "execution_count": 1,
   "id": "f3c2752d-26ea-427c-9f62-a3cb96b6f4c5",
   "metadata": {},
   "outputs": [
    {
     "name": "stdout",
     "output_type": "stream",
     "text": [
      "Hello, Jupyter!\n"
     ]
    }
   ],
   "source": [
    "# Oh! Almost forgot that we code in here!\n",
    "\n",
    "print(\"Hello, Jupyter!\")"
   ]
  },
  {
   "cell_type": "markdown",
   "id": "3805182c-6dad-4ac7-b9f8-1e5128a301aa",
   "metadata": {},
   "source": [
    "### Important!"
   ]
  },
  {
   "cell_type": "code",
   "execution_count": 2,
   "id": "93b7f165-cb10-42a7-ba45-97ba7ec13d30",
   "metadata": {},
   "outputs": [],
   "source": [
    "a = 1"
   ]
  },
  {
   "cell_type": "code",
   "execution_count": 3,
   "id": "0cefffe6-d369-4d6e-b2c4-2298c19c11d2",
   "metadata": {},
   "outputs": [],
   "source": [
    "b = 2"
   ]
  },
  {
   "cell_type": "code",
   "execution_count": 4,
   "id": "00643d0d-9367-40c2-9d74-6aaa7f08f4d1",
   "metadata": {},
   "outputs": [
    {
     "data": {
      "text/plain": [
       "3"
      ]
     },
     "execution_count": 4,
     "metadata": {},
     "output_type": "execute_result"
    }
   ],
   "source": [
    "a + b"
   ]
  },
  {
   "cell_type": "code",
   "execution_count": 5,
   "id": "b44f7569-def5-4eb0-83b3-7a19c329940b",
   "metadata": {},
   "outputs": [
    {
     "data": {
      "text/plain": [
       "3"
      ]
     },
     "execution_count": 5,
     "metadata": {},
     "output_type": "execute_result"
    }
   ],
   "source": [
    "a + b"
   ]
  },
  {
   "cell_type": "code",
   "execution_count": null,
   "id": "22fffb19-3e26-42a3-ab4b-89094935bfb3",
   "metadata": {},
   "outputs": [],
   "source": []
  }
 ],
 "metadata": {
  "kernelspec": {
   "display_name": "Python 3 (ipykernel)",
   "language": "python",
   "name": "python3"
  },
  "language_info": {
   "codemirror_mode": {
    "name": "ipython",
    "version": 3
   },
   "file_extension": ".py",
   "mimetype": "text/x-python",
   "name": "python",
   "nbconvert_exporter": "python",
   "pygments_lexer": "ipython3",
   "version": "3.12.6"
  }
 },
 "nbformat": 4,
 "nbformat_minor": 5
}
