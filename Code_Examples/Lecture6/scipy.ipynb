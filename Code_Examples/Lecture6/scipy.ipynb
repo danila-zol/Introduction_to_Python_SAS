{
 "cells": [
  {
   "cell_type": "markdown",
   "id": "c81a8536-d9b8-40fc-a767-48ab8fd381b1",
   "metadata": {},
   "source": [
    "# SciPy for statistics"
   ]
  },
  {
   "cell_type": "markdown",
   "id": "1e2688ec-48a3-4fb2-8827-c8e2b375dc22",
   "metadata": {},
   "source": [
    "### T-Test\n",
    "\n",
    "A t-test is used to check the deviation of two samples of data. \n",
    "It compares its **mean** values, calculates the **p-value**\\[1] based on which we can tell how deviant the group A is from group B.\n",
    "\n",
    "\\[1]. p-value determines the probability of taking a single sample that deviates from the original group by a significant margin. The closer it is to 0, the less deviant this single sample is from the original, meaning that the original group has presumably changed."
   ]
  },
  {
   "cell_type": "code",
   "execution_count": 1,
   "id": "5cdc6947-ffcd-4a25-9eb2-84fad79b2000",
   "metadata": {},
   "outputs": [
    {
     "name": "stdout",
     "output_type": "stream",
     "text": [
      "Note: you may need to restart the kernel to use updated packages.\n"
     ]
    }
   ],
   "source": [
    "%pip install pandas scipy numpy matplotlib -Uq"
   ]
  },
  {
   "cell_type": "code",
   "execution_count": 2,
   "id": "53a33749-7eeb-4420-9c7d-0603143b52b2",
   "metadata": {},
   "outputs": [],
   "source": [
    "import pandas as pd\n",
    "import numpy as np\n",
    "from scipy import stats as st\n",
    "import matplotlib.pyplot as plt"
   ]
  },
  {
   "cell_type": "code",
   "execution_count": 3,
   "id": "02c32fdd-3a77-4691-9e53-dcf428ca5b7e",
   "metadata": {},
   "outputs": [
    {
     "data": {
      "text/html": [
       "<div>\n",
       "<style scoped>\n",
       "    .dataframe tbody tr th:only-of-type {\n",
       "        vertical-align: middle;\n",
       "    }\n",
       "\n",
       "    .dataframe tbody tr th {\n",
       "        vertical-align: top;\n",
       "    }\n",
       "\n",
       "    .dataframe thead th {\n",
       "        text-align: right;\n",
       "    }\n",
       "</style>\n",
       "<table border=\"1\" class=\"dataframe\">\n",
       "  <thead>\n",
       "    <tr style=\"text-align: right;\">\n",
       "      <th></th>\n",
       "      <th>CodingHours</th>\n",
       "      <th>CoffeeCupsPerDay</th>\n",
       "      <th>CoffeeTime</th>\n",
       "      <th>CodingWithoutCoffee</th>\n",
       "      <th>CoffeeType</th>\n",
       "      <th>CoffeeSolveBugs</th>\n",
       "      <th>Gender</th>\n",
       "      <th>AgeRange</th>\n",
       "    </tr>\n",
       "  </thead>\n",
       "  <tbody>\n",
       "    <tr>\n",
       "      <th>0</th>\n",
       "      <td>8</td>\n",
       "      <td>2</td>\n",
       "      <td>Before coding</td>\n",
       "      <td>Yes</td>\n",
       "      <td>Caffè latte</td>\n",
       "      <td>Sometimes</td>\n",
       "      <td>Female</td>\n",
       "      <td>18 to 29</td>\n",
       "    </tr>\n",
       "    <tr>\n",
       "      <th>1</th>\n",
       "      <td>3</td>\n",
       "      <td>2</td>\n",
       "      <td>Before coding</td>\n",
       "      <td>Yes</td>\n",
       "      <td>Americano</td>\n",
       "      <td>Yes</td>\n",
       "      <td>Female</td>\n",
       "      <td>30 to 39</td>\n",
       "    </tr>\n",
       "    <tr>\n",
       "      <th>2</th>\n",
       "      <td>5</td>\n",
       "      <td>3</td>\n",
       "      <td>While coding</td>\n",
       "      <td>No</td>\n",
       "      <td>Nescafe</td>\n",
       "      <td>Yes</td>\n",
       "      <td>Female</td>\n",
       "      <td>18 to 29</td>\n",
       "    </tr>\n",
       "    <tr>\n",
       "      <th>3</th>\n",
       "      <td>10</td>\n",
       "      <td>3</td>\n",
       "      <td>While coding</td>\n",
       "      <td>Sometimes</td>\n",
       "      <td>Turkish</td>\n",
       "      <td>No</td>\n",
       "      <td>Male</td>\n",
       "      <td>18 to 29</td>\n",
       "    </tr>\n",
       "    <tr>\n",
       "      <th>4</th>\n",
       "      <td>8</td>\n",
       "      <td>2</td>\n",
       "      <td>While coding</td>\n",
       "      <td>Sometimes</td>\n",
       "      <td>Nescafe</td>\n",
       "      <td>Yes</td>\n",
       "      <td>Male</td>\n",
       "      <td>30 to 39</td>\n",
       "    </tr>\n",
       "  </tbody>\n",
       "</table>\n",
       "</div>"
      ],
      "text/plain": [
       "   CodingHours  CoffeeCupsPerDay     CoffeeTime CodingWithoutCoffee  \\\n",
       "0            8                 2  Before coding                 Yes   \n",
       "1            3                 2  Before coding                 Yes   \n",
       "2            5                 3   While coding                  No   \n",
       "3           10                 3   While coding           Sometimes   \n",
       "4            8                 2   While coding           Sometimes   \n",
       "\n",
       "    CoffeeType CoffeeSolveBugs  Gender  AgeRange  \n",
       "0  Caffè latte       Sometimes  Female  18 to 29  \n",
       "1    Americano             Yes  Female  30 to 39  \n",
       "2      Nescafe             Yes  Female  18 to 29  \n",
       "3      Turkish              No    Male  18 to 29  \n",
       "4      Nescafe             Yes    Male  30 to 39  "
      ]
     },
     "execution_count": 3,
     "metadata": {},
     "output_type": "execute_result"
    }
   ],
   "source": [
    "data_code = pd.read_csv(\"./data/CodeAndCoffeeModified.csv\")\n",
    "data_code.head()"
   ]
  },
  {
   "cell_type": "markdown",
   "id": "d4639ff7-0de1-4015-acf5-70b86096e575",
   "metadata": {},
   "source": [
    "### Propose a null hypothesis\n",
    "\n",
    "$H_0$: More hard-working programmers drink more coffee while coding\n",
    "\n",
    "$H_1$: Coffee consumption is consistent regardless of working hours\n",
    "\n",
    "`tip`: use `$H_n$` to generate formulas in Markdown. [More information](https://docs.github.com/en/get-started/writing-on-github/working-with-advanced-formatting/writing-mathematical-expressions)"
   ]
  },
  {
   "cell_type": "code",
   "execution_count": 16,
   "id": "f764a38d-df1f-4e13-b1d6-694f3ae31649",
   "metadata": {},
   "outputs": [],
   "source": [
    "data_code_coding = data_code[data_code[\"CodingWithoutCoffee\"]!=\"Yes\"]\n",
    "\n",
    "hard_workers = data_code_coding[data_code_coding[\"CodingHours\"]>5]\n",
    "soft_workers = data_code_coding[data_code_coding[\"CodingHours\"]<5]"
   ]
  },
  {
   "cell_type": "markdown",
   "id": "7a910c72-6f36-42f9-868f-e8d827b69c63",
   "metadata": {},
   "source": [
    "#### Make the datasets of equal length"
   ]
  },
  {
   "cell_type": "code",
   "execution_count": 17,
   "id": "c6dac3f8-e3cd-4b37-82cd-10e4e6676d41",
   "metadata": {},
   "outputs": [
    {
     "name": "stdout",
     "output_type": "stream",
     "text": [
      "<class 'pandas.core.frame.DataFrame'>\n",
      "Index: 46 entries, 3 to 96\n",
      "Data columns (total 8 columns):\n",
      " #   Column               Non-Null Count  Dtype \n",
      "---  ------               --------------  ----- \n",
      " 0   CodingHours          46 non-null     int64 \n",
      " 1   CoffeeCupsPerDay     46 non-null     int64 \n",
      " 2   CoffeeTime           46 non-null     object\n",
      " 3   CodingWithoutCoffee  46 non-null     object\n",
      " 4   CoffeeType           46 non-null     object\n",
      " 5   CoffeeSolveBugs      46 non-null     object\n",
      " 6   Gender               46 non-null     object\n",
      " 7   AgeRange             46 non-null     object\n",
      "dtypes: int64(2), object(6)\n",
      "memory usage: 3.2+ KB\n",
      "<class 'pandas.core.frame.DataFrame'>\n",
      "Index: 17 entries, 9 to 95\n",
      "Data columns (total 8 columns):\n",
      " #   Column               Non-Null Count  Dtype \n",
      "---  ------               --------------  ----- \n",
      " 0   CodingHours          17 non-null     int64 \n",
      " 1   CoffeeCupsPerDay     17 non-null     int64 \n",
      " 2   CoffeeTime           17 non-null     object\n",
      " 3   CodingWithoutCoffee  17 non-null     object\n",
      " 4   CoffeeType           17 non-null     object\n",
      " 5   CoffeeSolveBugs      17 non-null     object\n",
      " 6   Gender               17 non-null     object\n",
      " 7   AgeRange             17 non-null     object\n",
      "dtypes: int64(2), object(6)\n",
      "memory usage: 1.2+ KB\n",
      "None None\n"
     ]
    }
   ],
   "source": [
    "print(hard_workers.info(), soft_workers.info())"
   ]
  },
  {
   "cell_type": "code",
   "execution_count": 18,
   "id": "ce42bd66-7dde-4029-8585-ec2fc75c64c5",
   "metadata": {},
   "outputs": [],
   "source": [
    "hard_workers = hard_workers[:len(soft_workers)]"
   ]
  },
  {
   "cell_type": "code",
   "execution_count": 22,
   "id": "a089bf41-00b1-45c9-b734-ee979d5d28e5",
   "metadata": {},
   "outputs": [
    {
     "name": "stdout",
     "output_type": "stream",
     "text": [
      "p-value: 0.315804659699638\n",
      "\n",
      "No reason to reject the null hypothesis\n"
     ]
    }
   ],
   "source": [
    "alpha = 0.05           # The 5% border of significance\n",
    "\n",
    "results = st.ttest_ind(\n",
    "    hard_workers[\"CoffeeCupsPerDay\"],\n",
    "    soft_workers[\"CoffeeCupsPerDay\"],\n",
    ")\n",
    "\n",
    "print(f'p-value: {results.pvalue}\\n')\n",
    "\n",
    "if results.pvalue < alpha:\n",
    "    print('Null hypothesis rejected')\n",
    "else:\n",
    "    print('No reason to reject the null hypothesis')"
   ]
  },
  {
   "cell_type": "markdown",
   "id": "a29adaf2-cb81-45a3-a87d-fbfbb4832824",
   "metadata": {},
   "source": [
    "### Conclusion: t-test proposed that working long hours does not necessarily mean drinking more coffee\n",
    "\n",
    "Don't drink too much coffee, kids! And don't work long hours too..."
   ]
  },
  {
   "cell_type": "code",
   "execution_count": null,
   "id": "d6754064-9eb9-454a-9614-cc36e6ddba8e",
   "metadata": {},
   "outputs": [],
   "source": []
  }
 ],
 "metadata": {
  "kernelspec": {
   "display_name": "Python 3 (ipykernel)",
   "language": "python",
   "name": "python3"
  },
  "language_info": {
   "codemirror_mode": {
    "name": "ipython",
    "version": 3
   },
   "file_extension": ".py",
   "mimetype": "text/x-python",
   "name": "python",
   "nbconvert_exporter": "python",
   "pygments_lexer": "ipython3",
   "version": "3.12.6"
  }
 },
 "nbformat": 4,
 "nbformat_minor": 5
}
